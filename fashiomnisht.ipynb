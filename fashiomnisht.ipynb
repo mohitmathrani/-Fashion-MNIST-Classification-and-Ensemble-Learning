{
 "cells": [
  {
   "cell_type": "markdown",
   "id": "f304db28",
   "metadata": {},
   "source": [
    "#### Loading all the necessary Libraries"
   ]
  },
  {
   "cell_type": "code",
   "execution_count": 91,
   "id": "541e4076",
   "metadata": {},
   "outputs": [],
   "source": [
    "import pandas as pd\n",
    "import numpy as np\n",
    "import matplotlib.pyplot as plt\n",
    "from sklearn.model_selection import train_test_split, StratifiedShuffleSplit, cross_val_score\n",
    "from pandas.plotting import scatter_matrix\n",
    "from sklearn.preprocessing import OrdinalEncoder, OneHotEncoder, StandardScaler, PolynomialFeatures\n",
    "from sklearn.pipeline import Pipeline\n",
    "from sklearn.compose import ColumnTransformer\n",
    "from sklearn.linear_model import LinearRegression, SGDRegressor\n",
    "from sklearn.metrics import mean_squared_error\n",
    "from sklearn.linear_model import LogisticRegression\n",
    "from sklearn.model_selection import train_test_split, cross_val_score, cross_val_predict, GridSearchCV\n",
    "from sklearn.ensemble import RandomForestClassifier\n",
    "from sklearn.svm import SVC\n",
    "from sklearn.decomposition import PCA\n",
    "import seaborn as sns\n",
    "from sklearn.metrics import confusion_matrix"
   ]
  },
  {
   "cell_type": "code",
   "execution_count": 2,
   "id": "7bcd2e7a",
   "metadata": {},
   "outputs": [],
   "source": [
    "import warnings\n",
    "warnings.filterwarnings(action='ignore')"
   ]
  },
  {
   "attachments": {},
   "cell_type": "markdown",
   "id": "eee7507c",
   "metadata": {},
   "source": [
    " Data is already splitted into train and test sets. Creating a validation set by selecting 10000 samples from the training set (at the end we will have 10000 training and 50000 validation samples). Displaying a few images"
   ]
  },
  {
   "cell_type": "markdown",
   "id": "e8679959",
   "metadata": {},
   "source": [
    "#### Loading the training and the testing dataset"
   ]
  },
  {
   "cell_type": "code",
   "execution_count": 3,
   "id": "a4018971",
   "metadata": {},
   "outputs": [
    {
     "data": {
      "text/plain": [
       "(60000, 785)"
      ]
     },
     "execution_count": 3,
     "metadata": {},
     "output_type": "execute_result"
    }
   ],
   "source": [
    "ftrain=pd.read_csv(\"fashion-mnist_train.csv\")\n",
    "ftrain.shape"
   ]
  },
  {
   "cell_type": "code",
   "execution_count": 4,
   "id": "f6f97e23",
   "metadata": {},
   "outputs": [],
   "source": [
    "ftest=pd.read_csv(\"fashion-mnist_test.csv\")"
   ]
  },
  {
   "cell_type": "code",
   "execution_count": 5,
   "id": "5838d66e",
   "metadata": {},
   "outputs": [
    {
     "data": {
      "text/html": [
       "<div>\n",
       "<style scoped>\n",
       "    .dataframe tbody tr th:only-of-type {\n",
       "        vertical-align: middle;\n",
       "    }\n",
       "\n",
       "    .dataframe tbody tr th {\n",
       "        vertical-align: top;\n",
       "    }\n",
       "\n",
       "    .dataframe thead th {\n",
       "        text-align: right;\n",
       "    }\n",
       "</style>\n",
       "<table border=\"1\" class=\"dataframe\">\n",
       "  <thead>\n",
       "    <tr style=\"text-align: right;\">\n",
       "      <th></th>\n",
       "      <th>label</th>\n",
       "      <th>pixel1</th>\n",
       "      <th>pixel2</th>\n",
       "      <th>pixel3</th>\n",
       "      <th>pixel4</th>\n",
       "      <th>pixel5</th>\n",
       "      <th>pixel6</th>\n",
       "      <th>pixel7</th>\n",
       "      <th>pixel8</th>\n",
       "      <th>pixel9</th>\n",
       "      <th>...</th>\n",
       "      <th>pixel775</th>\n",
       "      <th>pixel776</th>\n",
       "      <th>pixel777</th>\n",
       "      <th>pixel778</th>\n",
       "      <th>pixel779</th>\n",
       "      <th>pixel780</th>\n",
       "      <th>pixel781</th>\n",
       "      <th>pixel782</th>\n",
       "      <th>pixel783</th>\n",
       "      <th>pixel784</th>\n",
       "    </tr>\n",
       "  </thead>\n",
       "  <tbody>\n",
       "    <tr>\n",
       "      <th>0</th>\n",
       "      <td>2</td>\n",
       "      <td>0</td>\n",
       "      <td>0</td>\n",
       "      <td>0</td>\n",
       "      <td>0</td>\n",
       "      <td>0</td>\n",
       "      <td>0</td>\n",
       "      <td>0</td>\n",
       "      <td>0</td>\n",
       "      <td>0</td>\n",
       "      <td>...</td>\n",
       "      <td>0</td>\n",
       "      <td>0</td>\n",
       "      <td>0</td>\n",
       "      <td>0</td>\n",
       "      <td>0</td>\n",
       "      <td>0</td>\n",
       "      <td>0</td>\n",
       "      <td>0</td>\n",
       "      <td>0</td>\n",
       "      <td>0</td>\n",
       "    </tr>\n",
       "    <tr>\n",
       "      <th>1</th>\n",
       "      <td>9</td>\n",
       "      <td>0</td>\n",
       "      <td>0</td>\n",
       "      <td>0</td>\n",
       "      <td>0</td>\n",
       "      <td>0</td>\n",
       "      <td>0</td>\n",
       "      <td>0</td>\n",
       "      <td>0</td>\n",
       "      <td>0</td>\n",
       "      <td>...</td>\n",
       "      <td>0</td>\n",
       "      <td>0</td>\n",
       "      <td>0</td>\n",
       "      <td>0</td>\n",
       "      <td>0</td>\n",
       "      <td>0</td>\n",
       "      <td>0</td>\n",
       "      <td>0</td>\n",
       "      <td>0</td>\n",
       "      <td>0</td>\n",
       "    </tr>\n",
       "    <tr>\n",
       "      <th>2</th>\n",
       "      <td>6</td>\n",
       "      <td>0</td>\n",
       "      <td>0</td>\n",
       "      <td>0</td>\n",
       "      <td>0</td>\n",
       "      <td>0</td>\n",
       "      <td>0</td>\n",
       "      <td>0</td>\n",
       "      <td>5</td>\n",
       "      <td>0</td>\n",
       "      <td>...</td>\n",
       "      <td>0</td>\n",
       "      <td>0</td>\n",
       "      <td>0</td>\n",
       "      <td>30</td>\n",
       "      <td>43</td>\n",
       "      <td>0</td>\n",
       "      <td>0</td>\n",
       "      <td>0</td>\n",
       "      <td>0</td>\n",
       "      <td>0</td>\n",
       "    </tr>\n",
       "    <tr>\n",
       "      <th>3</th>\n",
       "      <td>0</td>\n",
       "      <td>0</td>\n",
       "      <td>0</td>\n",
       "      <td>0</td>\n",
       "      <td>1</td>\n",
       "      <td>2</td>\n",
       "      <td>0</td>\n",
       "      <td>0</td>\n",
       "      <td>0</td>\n",
       "      <td>0</td>\n",
       "      <td>...</td>\n",
       "      <td>3</td>\n",
       "      <td>0</td>\n",
       "      <td>0</td>\n",
       "      <td>0</td>\n",
       "      <td>0</td>\n",
       "      <td>1</td>\n",
       "      <td>0</td>\n",
       "      <td>0</td>\n",
       "      <td>0</td>\n",
       "      <td>0</td>\n",
       "    </tr>\n",
       "    <tr>\n",
       "      <th>4</th>\n",
       "      <td>3</td>\n",
       "      <td>0</td>\n",
       "      <td>0</td>\n",
       "      <td>0</td>\n",
       "      <td>0</td>\n",
       "      <td>0</td>\n",
       "      <td>0</td>\n",
       "      <td>0</td>\n",
       "      <td>0</td>\n",
       "      <td>0</td>\n",
       "      <td>...</td>\n",
       "      <td>0</td>\n",
       "      <td>0</td>\n",
       "      <td>0</td>\n",
       "      <td>0</td>\n",
       "      <td>0</td>\n",
       "      <td>0</td>\n",
       "      <td>0</td>\n",
       "      <td>0</td>\n",
       "      <td>0</td>\n",
       "      <td>0</td>\n",
       "    </tr>\n",
       "  </tbody>\n",
       "</table>\n",
       "<p>5 rows × 785 columns</p>\n",
       "</div>"
      ],
      "text/plain": [
       "   label  pixel1  pixel2  pixel3  pixel4  pixel5  pixel6  pixel7  pixel8  \\\n",
       "0      2       0       0       0       0       0       0       0       0   \n",
       "1      9       0       0       0       0       0       0       0       0   \n",
       "2      6       0       0       0       0       0       0       0       5   \n",
       "3      0       0       0       0       1       2       0       0       0   \n",
       "4      3       0       0       0       0       0       0       0       0   \n",
       "\n",
       "   pixel9  ...  pixel775  pixel776  pixel777  pixel778  pixel779  pixel780  \\\n",
       "0       0  ...         0         0         0         0         0         0   \n",
       "1       0  ...         0         0         0         0         0         0   \n",
       "2       0  ...         0         0         0        30        43         0   \n",
       "3       0  ...         3         0         0         0         0         1   \n",
       "4       0  ...         0         0         0         0         0         0   \n",
       "\n",
       "   pixel781  pixel782  pixel783  pixel784  \n",
       "0         0         0         0         0  \n",
       "1         0         0         0         0  \n",
       "2         0         0         0         0  \n",
       "3         0         0         0         0  \n",
       "4         0         0         0         0  \n",
       "\n",
       "[5 rows x 785 columns]"
      ]
     },
     "execution_count": 5,
     "metadata": {},
     "output_type": "execute_result"
    }
   ],
   "source": [
    "ftrain.head()"
   ]
  },
  {
   "cell_type": "markdown",
   "id": "fc90c104",
   "metadata": {},
   "source": [
    "#### Splitting the dataset into training and testing and scaling the dataset"
   ]
  },
  {
   "cell_type": "code",
   "execution_count": 6,
   "id": "a64bc13f",
   "metadata": {},
   "outputs": [
    {
     "data": {
      "text/html": [
       "<div>\n",
       "<style scoped>\n",
       "    .dataframe tbody tr th:only-of-type {\n",
       "        vertical-align: middle;\n",
       "    }\n",
       "\n",
       "    .dataframe tbody tr th {\n",
       "        vertical-align: top;\n",
       "    }\n",
       "\n",
       "    .dataframe thead th {\n",
       "        text-align: right;\n",
       "    }\n",
       "</style>\n",
       "<table border=\"1\" class=\"dataframe\">\n",
       "  <thead>\n",
       "    <tr style=\"text-align: right;\">\n",
       "      <th></th>\n",
       "      <th>label</th>\n",
       "    </tr>\n",
       "  </thead>\n",
       "  <tbody>\n",
       "    <tr>\n",
       "      <th>0</th>\n",
       "      <td>2</td>\n",
       "    </tr>\n",
       "    <tr>\n",
       "      <th>1</th>\n",
       "      <td>9</td>\n",
       "    </tr>\n",
       "    <tr>\n",
       "      <th>2</th>\n",
       "      <td>6</td>\n",
       "    </tr>\n",
       "    <tr>\n",
       "      <th>3</th>\n",
       "      <td>0</td>\n",
       "    </tr>\n",
       "    <tr>\n",
       "      <th>4</th>\n",
       "      <td>3</td>\n",
       "    </tr>\n",
       "    <tr>\n",
       "      <th>...</th>\n",
       "      <td>...</td>\n",
       "    </tr>\n",
       "    <tr>\n",
       "      <th>59995</th>\n",
       "      <td>9</td>\n",
       "    </tr>\n",
       "    <tr>\n",
       "      <th>59996</th>\n",
       "      <td>1</td>\n",
       "    </tr>\n",
       "    <tr>\n",
       "      <th>59997</th>\n",
       "      <td>8</td>\n",
       "    </tr>\n",
       "    <tr>\n",
       "      <th>59998</th>\n",
       "      <td>8</td>\n",
       "    </tr>\n",
       "    <tr>\n",
       "      <th>59999</th>\n",
       "      <td>7</td>\n",
       "    </tr>\n",
       "  </tbody>\n",
       "</table>\n",
       "<p>60000 rows × 1 columns</p>\n",
       "</div>"
      ],
      "text/plain": [
       "       label\n",
       "0          2\n",
       "1          9\n",
       "2          6\n",
       "3          0\n",
       "4          3\n",
       "...      ...\n",
       "59995      9\n",
       "59996      1\n",
       "59997      8\n",
       "59998      8\n",
       "59999      7\n",
       "\n",
       "[60000 rows x 1 columns]"
      ]
     },
     "execution_count": 6,
     "metadata": {},
     "output_type": "execute_result"
    }
   ],
   "source": [
    "x_train=ftrain.drop(columns=\"label\")\n",
    "x_train=x_train/255.0\n",
    "y_train=ftrain.iloc[:,0]\n",
    "y_train=pd.DataFrame(y_train)\n",
    "y_train"
   ]
  },
  {
   "cell_type": "code",
   "execution_count": 7,
   "id": "97e231b6",
   "metadata": {},
   "outputs": [
    {
     "data": {
      "text/html": [
       "<div>\n",
       "<style scoped>\n",
       "    .dataframe tbody tr th:only-of-type {\n",
       "        vertical-align: middle;\n",
       "    }\n",
       "\n",
       "    .dataframe tbody tr th {\n",
       "        vertical-align: top;\n",
       "    }\n",
       "\n",
       "    .dataframe thead th {\n",
       "        text-align: right;\n",
       "    }\n",
       "</style>\n",
       "<table border=\"1\" class=\"dataframe\">\n",
       "  <thead>\n",
       "    <tr style=\"text-align: right;\">\n",
       "      <th></th>\n",
       "      <th>label</th>\n",
       "    </tr>\n",
       "  </thead>\n",
       "  <tbody>\n",
       "    <tr>\n",
       "      <th>0</th>\n",
       "      <td>0</td>\n",
       "    </tr>\n",
       "    <tr>\n",
       "      <th>1</th>\n",
       "      <td>1</td>\n",
       "    </tr>\n",
       "    <tr>\n",
       "      <th>2</th>\n",
       "      <td>2</td>\n",
       "    </tr>\n",
       "    <tr>\n",
       "      <th>3</th>\n",
       "      <td>2</td>\n",
       "    </tr>\n",
       "    <tr>\n",
       "      <th>4</th>\n",
       "      <td>3</td>\n",
       "    </tr>\n",
       "    <tr>\n",
       "      <th>...</th>\n",
       "      <td>...</td>\n",
       "    </tr>\n",
       "    <tr>\n",
       "      <th>9995</th>\n",
       "      <td>0</td>\n",
       "    </tr>\n",
       "    <tr>\n",
       "      <th>9996</th>\n",
       "      <td>6</td>\n",
       "    </tr>\n",
       "    <tr>\n",
       "      <th>9997</th>\n",
       "      <td>8</td>\n",
       "    </tr>\n",
       "    <tr>\n",
       "      <th>9998</th>\n",
       "      <td>8</td>\n",
       "    </tr>\n",
       "    <tr>\n",
       "      <th>9999</th>\n",
       "      <td>1</td>\n",
       "    </tr>\n",
       "  </tbody>\n",
       "</table>\n",
       "<p>10000 rows × 1 columns</p>\n",
       "</div>"
      ],
      "text/plain": [
       "      label\n",
       "0         0\n",
       "1         1\n",
       "2         2\n",
       "3         2\n",
       "4         3\n",
       "...     ...\n",
       "9995      0\n",
       "9996      6\n",
       "9997      8\n",
       "9998      8\n",
       "9999      1\n",
       "\n",
       "[10000 rows x 1 columns]"
      ]
     },
     "execution_count": 7,
     "metadata": {},
     "output_type": "execute_result"
    }
   ],
   "source": [
    "x_test=ftest.drop(columns=\"label\")\n",
    "x_test=x_test/255.0\n",
    "y_test=ftest.iloc[:,0]\n",
    "y_test=pd.DataFrame(y_test)\n",
    "y_test"
   ]
  },
  {
   "cell_type": "markdown",
   "id": "0ce2e574",
   "metadata": {},
   "source": [
    "#### Splitting the training dataset into validation and training dataset"
   ]
  },
  {
   "cell_type": "code",
   "execution_count": 8,
   "id": "397b2797",
   "metadata": {},
   "outputs": [],
   "source": [
    "X_val,X_train, y_val, y_train = x_train[:10000], x_train[10000:], y_train[:10000], y_train[10000:]"
   ]
  },
  {
   "cell_type": "code",
   "execution_count": 27,
   "id": "36e2b18b",
   "metadata": {},
   "outputs": [
    {
     "data": {
      "text/html": [
       "<div>\n",
       "<style scoped>\n",
       "    .dataframe tbody tr th:only-of-type {\n",
       "        vertical-align: middle;\n",
       "    }\n",
       "\n",
       "    .dataframe tbody tr th {\n",
       "        vertical-align: top;\n",
       "    }\n",
       "\n",
       "    .dataframe thead th {\n",
       "        text-align: right;\n",
       "    }\n",
       "</style>\n",
       "<table border=\"1\" class=\"dataframe\">\n",
       "  <thead>\n",
       "    <tr style=\"text-align: right;\">\n",
       "      <th></th>\n",
       "      <th>label</th>\n",
       "    </tr>\n",
       "  </thead>\n",
       "  <tbody>\n",
       "    <tr>\n",
       "      <th>10000</th>\n",
       "      <td>2</td>\n",
       "    </tr>\n",
       "    <tr>\n",
       "      <th>10001</th>\n",
       "      <td>4</td>\n",
       "    </tr>\n",
       "    <tr>\n",
       "      <th>10002</th>\n",
       "      <td>8</td>\n",
       "    </tr>\n",
       "    <tr>\n",
       "      <th>10003</th>\n",
       "      <td>6</td>\n",
       "    </tr>\n",
       "    <tr>\n",
       "      <th>10004</th>\n",
       "      <td>7</td>\n",
       "    </tr>\n",
       "  </tbody>\n",
       "</table>\n",
       "</div>"
      ],
      "text/plain": [
       "       label\n",
       "10000      2\n",
       "10001      4\n",
       "10002      8\n",
       "10003      6\n",
       "10004      7"
      ]
     },
     "execution_count": 27,
     "metadata": {},
     "output_type": "execute_result"
    }
   ],
   "source": [
    "y_train.head()"
   ]
  },
  {
   "cell_type": "code",
   "execution_count": 28,
   "id": "0574668a",
   "metadata": {},
   "outputs": [
    {
     "data": {
      "text/plain": [
       "pandas.core.frame.DataFrame"
      ]
     },
     "execution_count": 28,
     "metadata": {},
     "output_type": "execute_result"
    }
   ],
   "source": [
    "type(y_train)"
   ]
  },
  {
   "cell_type": "code",
   "execution_count": 10,
   "id": "40147834",
   "metadata": {},
   "outputs": [
    {
     "data": {
      "text/plain": [
       "(10000, 784)"
      ]
     },
     "execution_count": 10,
     "metadata": {},
     "output_type": "execute_result"
    }
   ],
   "source": [
    "X_val.shape"
   ]
  },
  {
   "cell_type": "markdown",
   "id": "d3edb4ff",
   "metadata": {},
   "source": [
    "#### PCA for SVM  as we are preserving the 95% of the original dataset"
   ]
  },
  {
   "cell_type": "code",
   "execution_count": 11,
   "id": "6e61534b",
   "metadata": {},
   "outputs": [],
   "source": [
    "pca_trans = PCA(0.95)\n",
    "X_trainpca= pca_trans.fit_transform(X_train)\n",
    "X_valpca = pca_trans.transform(X_val)\n",
    "X_testpca= pca_trans.transform(x_test)"
   ]
  },
  {
   "cell_type": "markdown",
   "id": "2a094c66",
   "metadata": {},
   "source": [
    "#### Displaying some images as asked in the question"
   ]
  },
  {
   "cell_type": "code",
   "execution_count": 34,
   "id": "c3712f98",
   "metadata": {},
   "outputs": [
    {
     "data": {
      "image/png": "[encoded data removed]",
      "text/plain": [
       "<Figure size 720x720 with 100 Axes>"
      ]
     },
     "metadata": {
      "needs_background": "light"
     },
     "output_type": "display_data"
    }
   ],
   "source": [
    "plt.figure(figsize=(10,10))\n",
    "for i in range(100):\n",
    "    plt.subplot(10,10,i+1)\n",
    "    plt.imshow(x_train.iloc[i].values.reshape(28,28), cmap=\"gray\", interpolation=\"nearest\")\n",
    "    plt.axis(\"off\")\n",
    "plt.tight_layout()\n",
    "plt.show()"
   ]
  },
  {
   "cell_type": "markdown",
   "id": "8e5830bd",
   "metadata": {},
   "source": [
    "### Multinomial Logistic Regression (softmax regression) "
   ]
  },
  {
   "cell_type": "code",
   "execution_count": 35,
   "id": "415ccb8c",
   "metadata": {},
   "outputs": [
    {
     "name": "stdout",
     "output_type": "stream",
     "text": [
      "Training Score 0.88622\n",
      "Validation Score 0.8482\n"
     ]
    }
   ],
   "source": [
    "softreg = LogisticRegression(multi_class=\"multinomial\",solver=\"lbfgs\",max_iter=1000, C=10, random_state=42)\n",
    "softreg.fit(X_train, y_train.values.ravel())\n",
    "print(\"Training Score\",softreg.score(X_train,y_train))\n",
    "print(\"Validation Score\",softreg.score(X_val,y_val))"
   ]
  },
  {
   "cell_type": "code",
   "execution_count": 36,
   "id": "7a8d01e5",
   "metadata": {},
   "outputs": [
    {
     "name": "stdout",
     "output_type": "stream",
     "text": [
      "Training Score 0.88328\n",
      "Validation Score 0.8541\n"
     ]
    }
   ],
   "source": [
    "softreg = LogisticRegression(multi_class=\"multinomial\",solver=\"lbfgs\",max_iter=1000, C=1, random_state=42)\n",
    "softreg.fit(X_train, y_train.values.ravel())\n",
    "print(\"Training Score\",softreg.score(X_train,y_train))\n",
    "print(\"Validation Score\",softreg.score(X_val,y_val))"
   ]
  },
  {
   "cell_type": "code",
   "execution_count": 37,
   "id": "3721afc6",
   "metadata": {},
   "outputs": [
    {
     "name": "stdout",
     "output_type": "stream",
     "text": [
      "Training Score 0.87304\n",
      "Validation Score 0.8594\n"
     ]
    }
   ],
   "source": [
    "softreg = LogisticRegression(multi_class=\"multinomial\",solver=\"lbfgs\",max_iter=1000, C=0.1, random_state=42)\n",
    "softreg.fit(X_train, y_train.values.ravel())\n",
    "print(\"Training Score\",softreg.score(X_train,y_train))\n",
    "print(\"Validation Score\",softreg.score(X_val,y_val))"
   ]
  },
  {
   "cell_type": "code",
   "execution_count": 38,
   "id": "aa07bf26",
   "metadata": {},
   "outputs": [
    {
     "name": "stdout",
     "output_type": "stream",
     "text": [
      "Training Score 0.85442\n",
      "Validation Score 0.8514\n"
     ]
    }
   ],
   "source": [
    "softreg = LogisticRegression(multi_class=\"multinomial\",solver=\"lbfgs\",max_iter=1000, C=0.01, random_state=42)\n",
    "softreg.fit(X_train, y_train.values.ravel())\n",
    "print(\"Training Score\",softreg.score(X_train,y_train))\n",
    "print(\"Validation Score\",softreg.score(X_val,y_val))"
   ]
  },
  {
   "cell_type": "markdown",
   "id": "e12be9ee",
   "metadata": {},
   "source": [
    "#### There is not much impact with the inverse regularization coefficient. However with some weak regularization of C=0.1, we our getting the best model with hyperparameters of c=0.1, max_iter=1000, Training Score of 0.87304 and Validation score of 0.8594.\n",
    "\n",
    "#### From the table, we can see that as the value of C increases (corresponding to decrease in regularization coefficient), the validation score doesn't improve, but the training score improves indicating that the model is somewhat overfitting on the training data."
   ]
  },
  {
   "cell_type": "markdown",
   "id": "68943567",
   "metadata": {},
   "source": [
    "####                                             Results for Softmax Regression\n",
    "| Value of C| Maximum Iterations | Training Score| Validation Score|\n",
    "|-----------|--------------------|----------------|----------------|\n",
    "    0.001   |       1000         |0.81864         |0.8195\n",
    "    0.01    |       1000         |0.85442         |0.8514\n",
    "    0.1     |       1000         |0.87304         |0.8594\n",
    "    1       |       1000         |0.88328         |0.8541\n",
    "    10      |       1000         |0.88622         |0.8482\n",
    "    100     |       1000         |0.88724         |0.8456"
   ]
  },
  {
   "cell_type": "markdown",
   "id": "f051d390",
   "metadata": {},
   "source": [
    "### Support Vector Machine"
   ]
  },
  {
   "cell_type": "markdown",
   "id": "2aee0942",
   "metadata": {},
   "source": [
    "#### Linear Kernel with different hyperparameters"
   ]
  },
  {
   "cell_type": "code",
   "execution_count": 41,
   "id": "d9237eac",
   "metadata": {},
   "outputs": [
    {
     "name": "stdout",
     "output_type": "stream",
     "text": [
      "Training Score of SVM with Linear Kernel with c 0.01 is 0.72268\n",
      "Validation Loss of SVM with Linear Kernel with c 0.01 is 0.7216\n",
      "Training Score of SVM with Linear Kernel with c 0.1 is 0.78514\n",
      "Validation Loss of SVM with Linear Kernel with c 0.1 is 0.7837\n",
      "Training Score of SVM with Linear Kernel with c 1 is 0.65118\n",
      "Validation Loss of SVM with Linear Kernel with c 1 is 0.6469\n",
      "Training Score of SVM with Linear Kernel with c 10 is 0.5353\n",
      "Validation Loss of SVM with Linear Kernel with c 10 is 0.5339\n",
      "Training Score of SVM with Linear Kernel with c 100 is 0.53848\n",
      "Validation Loss of SVM with Linear Kernel with c 100 is 0.5351\n"
     ]
    }
   ],
   "source": [
    "c=[0.01,0.1,1,10,100]\n",
    "for i in c:\n",
    "    svm=SVC(kernel=\"linear\",C=i,max_iter=1000,tol=0.01)\n",
    "    svm.fit(X_trainpca,y_train.values.ravel())\n",
    "    print(\"Training Score of SVM with Linear Kernel with c\",i,\"is\",svm.score(X_trainpca,y_train.values.ravel()))\n",
    "    print(\"Validation Loss of SVM with Linear Kernel with c\",i,\"is\",svm.score(X_valpca,y_val.values.ravel()))"
   ]
  },
  {
   "cell_type": "markdown",
   "id": "22090bdf",
   "metadata": {},
   "source": [
    "- For Linear Kernel we are getting the best hyperparameter with c=0.1, with training score of 0.78 and validation score of 0.78 as well. There seems no overfitting in the data as validation and training score increase/decrease together. When we increase regularization parameter till 0.1 both the training and validation score increase and above 0.1, both of them decrease.\n"
   ]
  },
  {
   "cell_type": "markdown",
   "id": "63fd250c",
   "metadata": {},
   "source": [
    "#### Polynomial Kernel\n",
    "\n",
    "- Here we have tried different combinations of regularization constants c [0.01,0.1,1,10,100] and degrees [2,3,4] with scaling factors in gamma as 'gamma': ['auto', 'scale']"
   ]
  },
  {
   "cell_type": "code",
   "execution_count": 59,
   "id": "7d4daad8",
   "metadata": {},
   "outputs": [
    {
     "name": "stdout",
     "output_type": "stream",
     "text": [
      "For C = 0.01 Degree = 2 Gamma = auto\n",
      "Training Score of SVM with Poly Kernel = 0.36554\n",
      "Validation Score of SVM with Poly Kernel = 0.3682\n",
      "For C = 0.01 Degree = 2 Gamma = scale\n",
      "Training Score of SVM with Poly Kernel = 0.46054\n",
      "Validation Score of SVM with Poly Kernel = 0.4614\n",
      "For C = 0.01 Degree = 3 Gamma = auto\n",
      "Training Score of SVM with Poly Kernel = 0.4299\n",
      "Validation Score of SVM with Poly Kernel = 0.4321\n",
      "For C = 0.01 Degree = 3 Gamma = scale\n",
      "Training Score of SVM with Poly Kernel = 0.49968\n",
      "Validation Score of SVM with Poly Kernel = 0.4976\n",
      "For C = 0.01 Degree = 4 Gamma = auto\n",
      "Training Score of SVM with Poly Kernel = 0.25252\n",
      "Validation Score of SVM with Poly Kernel = 0.2502\n",
      "For C = 0.01 Degree = 4 Gamma = scale\n",
      "Training Score of SVM with Poly Kernel = 0.34264\n",
      "Validation Score of SVM with Poly Kernel = 0.3437\n",
      "For C = 0.1 Degree = 2 Gamma = auto\n",
      "Training Score of SVM with Poly Kernel = 0.49894\n",
      "Validation Score of SVM with Poly Kernel = 0.5007\n",
      "For C = 0.1 Degree = 2 Gamma = scale\n",
      "Training Score of SVM with Poly Kernel = 0.60488\n",
      "Validation Score of SVM with Poly Kernel = 0.606\n",
      "For C = 0.1 Degree = 3 Gamma = auto\n",
      "Training Score of SVM with Poly Kernel = 0.45834\n",
      "Validation Score of SVM with Poly Kernel = 0.4587\n",
      "For C = 0.1 Degree = 3 Gamma = scale\n",
      "Training Score of SVM with Poly Kernel = 0.6314\n",
      "Validation Score of SVM with Poly Kernel = 0.6301\n",
      "For C = 0.1 Degree = 4 Gamma = auto\n",
      "Training Score of SVM with Poly Kernel = 0.26296\n",
      "Validation Score of SVM with Poly Kernel = 0.263\n",
      "For C = 0.1 Degree = 4 Gamma = scale\n",
      "Training Score of SVM with Poly Kernel = 0.49886\n",
      "Validation Score of SVM with Poly Kernel = 0.4945\n",
      "For C = 1 Degree = 2 Gamma = auto\n",
      "Training Score of SVM with Poly Kernel = 0.6085\n",
      "Validation Score of SVM with Poly Kernel = 0.6071\n",
      "For C = 1 Degree = 2 Gamma = scale\n",
      "Training Score of SVM with Poly Kernel = 0.72922\n",
      "Validation Score of SVM with Poly Kernel = 0.7266\n",
      "For C = 1 Degree = 3 Gamma = auto\n",
      "Training Score of SVM with Poly Kernel = 0.55538\n",
      "Validation Score of SVM with Poly Kernel = 0.557\n",
      "For C = 1 Degree = 3 Gamma = scale\n",
      "Training Score of SVM with Poly Kernel = 0.72068\n",
      "Validation Score of SVM with Poly Kernel = 0.7168\n",
      "For C = 1 Degree = 4 Gamma = auto\n",
      "Training Score of SVM with Poly Kernel = 0.34564\n",
      "Validation Score of SVM with Poly Kernel = 0.3491\n",
      "For C = 1 Degree = 4 Gamma = scale\n",
      "Training Score of SVM with Poly Kernel = 0.6988\n",
      "Validation Score of SVM with Poly Kernel = 0.6916\n",
      "For C = 10 Degree = 2 Gamma = auto\n",
      "Training Score of SVM with Poly Kernel = 0.7141\n",
      "Validation Score of SVM with Poly Kernel = 0.711\n",
      "For C = 10 Degree = 2 Gamma = scale\n",
      "Training Score of SVM with Poly Kernel = 0.85508\n",
      "Validation Score of SVM with Poly Kernel = 0.8225\n",
      "For C = 10 Degree = 3 Gamma = auto\n",
      "Training Score of SVM with Poly Kernel = 0.67784\n",
      "Validation Score of SVM with Poly Kernel = 0.6779\n",
      "For C = 10 Degree = 3 Gamma = scale\n",
      "Training Score of SVM with Poly Kernel = 0.84066\n",
      "Validation Score of SVM with Poly Kernel = 0.8109\n",
      "For C = 10 Degree = 4 Gamma = auto\n",
      "Training Score of SVM with Poly Kernel = 0.53582\n",
      "Validation Score of SVM with Poly Kernel = 0.5314\n",
      "For C = 10 Degree = 4 Gamma = scale\n",
      "Training Score of SVM with Poly Kernel = 0.80392\n",
      "Validation Score of SVM with Poly Kernel = 0.7705\n",
      "For C = 100 Degree = 2 Gamma = auto\n",
      "Training Score of SVM with Poly Kernel = 0.86834\n",
      "Validation Score of SVM with Poly Kernel = 0.8343\n",
      "For C = 100 Degree = 2 Gamma = scale\n",
      "Training Score of SVM with Poly Kernel = 0.8264\n",
      "Validation Score of SVM with Poly Kernel = 0.7949\n",
      "For C = 100 Degree = 3 Gamma = auto\n",
      "Training Score of SVM with Poly Kernel = 0.79074\n",
      "Validation Score of SVM with Poly Kernel = 0.7721\n",
      "For C = 100 Degree = 3 Gamma = scale\n",
      "Training Score of SVM with Poly Kernel = 0.85396\n",
      "Validation Score of SVM with Poly Kernel = 0.8138\n",
      "For C = 100 Degree = 4 Gamma = auto\n",
      "Training Score of SVM with Poly Kernel = 0.71096\n",
      "Validation Score of SVM with Poly Kernel = 0.7032\n",
      "For C = 100 Degree = 4 Gamma = scale\n",
      "Training Score of SVM with Poly Kernel = 0.90718\n",
      "Validation Score of SVM with Poly Kernel = 0.8419\n"
     ]
    }
   ],
   "source": [
    "import itertools\n",
    "c=[0.01,0.1,1,10,100]\n",
    "degree=[2,3,4]\n",
    "params = {\n",
    "    'C':[0.01,0.1,1,10,100],\n",
    "    'Degree':[2,3,4],\n",
    "    'gamma': ['auto', 'scale']\n",
    "}\n",
    "v = params.values()\n",
    "combinations = list(itertools.product(*v))\n",
    "for c in combinations:\n",
    "    svm=SVC(kernel=\"poly\",C=c[0],max_iter=1000,degree=c[1], gamma=c[2])\n",
    "    svm.fit(X_trainpca,y_train.values.ravel())\n",
    "    print(\"For C =\", c[0], \"Degree =\", c[1], \"Gamma =\", c[2])\n",
    "    print(\"Training Score of SVM with Poly Kernel =\", svm.score(X_trainpca,y_train.values.ravel()))\n",
    "    print(\"Validation Score of SVM with Poly Kernel =\",svm.score(X_valpca,y_val.values.ravel()))\n",
    "    "
   ]
  },
  {
   "cell_type": "markdown",
   "id": "25763d8b",
   "metadata": {},
   "source": [
    "- When we are using gamma=scale we are getting more accuracy as compared to auto because the influence now depends inversely on the variance of the input training data as well rather than only on the number of features, indicating that the model fits better to the training data.\n",
    "- For small values of C, the model imposes heavy regularization on the weights and the model doesn't fit well to the training data and thus doesn't perform well on the validation data. For large C, the regularization effect is reduced and the model fits better on the training data and performs better on the validation set.\n",
    "- For optimal values of C and Gamma, as the number of degrees are increased the accuracy also increases as the model is now able to capture even the non-linear realtionship between the features.\n",
    "- The best result we are getting in case for poly is for C = 100 Degree = 4 Gamma = scale with Training Score of SVM with Poly Kernel = 0.90718 and Validation Score of SVM with Poly Kernel = 0.8419"
   ]
  },
  {
   "cell_type": "markdown",
   "id": "7359bf06",
   "metadata": {},
   "source": [
    "#### RBF Kernel"
   ]
  },
  {
   "cell_type": "code",
   "execution_count": 43,
   "id": "35f96180",
   "metadata": {},
   "outputs": [
    {
     "name": "stdout",
     "output_type": "stream",
     "text": [
      "Training Score of SVM with rbf Kernel with c 0.01 is 0.6441\n",
      "Validation Score of SVM with rbf Kernel with c 0.01 is 0.648\n",
      "Training Score of SVM with rbf Kernel with c 0.1 is 0.73848\n",
      "Validation Score of SVM with rbf Kernel with c 0.1 is 0.7436\n",
      "Training Score of SVM with rbf Kernel with c 1 is 0.87834\n",
      "Validation Score of SVM with rbf Kernel with c 1 is 0.8575\n",
      "Training Score of SVM with rbf Kernel with c 10 is 0.8976\n",
      "Validation Score of SVM with rbf Kernel with c 10 is 0.8571\n",
      "Training Score of SVM with rbf Kernel with c 100 is 0.89014\n",
      "Validation Score of SVM with rbf Kernel with c 100 is 0.8451\n"
     ]
    }
   ],
   "source": [
    "c=[0.01,0.1,1,10,100]\n",
    "for i in c:\n",
    "    svm=SVC(kernel=\"rbf\",C=i,max_iter=1000)\n",
    "    svm.fit(X_trainpca,y_train.values.ravel())\n",
    "    print(\"Training Score of SVM with rbf Kernel with c\",i,\"is\",svm.score(X_trainpca,y_train.values.ravel()))\n",
    "    print(\"Validation Score of SVM with rbf Kernel with c\",i,\"is\",svm.score(X_valpca,y_val.values.ravel()))"
   ]
  },
  {
   "cell_type": "markdown",
   "id": "50a3b5b7",
   "metadata": {},
   "source": [
    "- Here the value of C is really important to have a bargain between overfitting and underfitting. As we increase the value of c(decreasing regularization effect as it is inverse), here the  validation score starts to decreases (even though the training score increases) after it has reached it peak at C=1. Thus, we can say that for C>1, the model starts overfitting on the training set, evident from the poor validation score.\n",
    "- We are getting a highest validation score for c=1(weak regularization) in RBF kernel with score as 0.8575 on validation and 0.87 as training score, indicate the model is working well with no overfitting."
   ]
  },
  {
   "cell_type": "markdown",
   "id": "31babafa",
   "metadata": {},
   "source": [
    "### Random Forest"
   ]
  },
  {
   "cell_type": "markdown",
   "id": "53a39814",
   "metadata": {},
   "source": [
    "- Here we have used different choices of hyperparameters such as  'estimator': [100, 200, 500]  'max_features': [\"sqrt\", \"log2\", None]  , 'max_depth': [50, 100, 500],  'max_leaf_nodes': [10, 20, 30], to identify the best model and use it later on our test data."
   ]
  },
  {
   "cell_type": "code",
   "execution_count": 60,
   "id": "900474d2",
   "metadata": {},
   "outputs": [],
   "source": [
    "d={} # for storing the results of different hyperparameters"
   ]
  },
  {
   "cell_type": "code",
   "execution_count": 61,
   "id": "3bf79e4a",
   "metadata": {},
   "outputs": [],
   "source": [
    "import itertools\n",
    "\n",
    "hyper_params = {\n",
    "    'estimator': [100, 200, 500],\n",
    "    'max_features': [\"sqrt\", \"log2\", None],\n",
    "    'max_depth': [50, 100, 500],\n",
    "    'max_leaf_nodes': [10, 20, 30]\n",
    "}\n",
    "v = hyper_params.values()\n",
    "combinations = list(itertools.product(*v))\n",
    "for c in combinations:\n",
    "    rfc = RandomForestClassifier(n_estimators=c[0], max_features=c[1], max_depth=c[2], max_leaf_nodes=c[3], n_jobs=-1)\n",
    "    rfc.fit(X_train, y_train.values.ravel())\n",
    "    cc = (str(v) for v in c)\n",
    "    d[\"rfc \" + \" \".join(cc)] = [rfc.score(X_train, y_train.values.ravel()), rfc.score(X_val, y_val.values.ravel())]"
   ]
  },
  {
   "cell_type": "code",
   "execution_count": 62,
   "id": "d7d8466b",
   "metadata": {},
   "outputs": [
    {
     "data": {
      "text/plain": [
       "{'rfc 100 sqrt 50 10': [0.7392, 0.7405],\n",
       " 'rfc 100 sqrt 50 20': [0.7861, 0.7864],\n",
       " 'rfc 100 sqrt 50 30': [0.79886, 0.8026],\n",
       " 'rfc 100 sqrt 100 10': [0.7374, 0.736],\n",
       " 'rfc 100 sqrt 100 20': [0.786, 0.7859],\n",
       " 'rfc 100 sqrt 100 30': [0.79788, 0.8],\n",
       " 'rfc 100 sqrt 500 10': [0.73806, 0.7365],\n",
       " 'rfc 100 sqrt 500 20': [0.7862, 0.7868],\n",
       " 'rfc 100 sqrt 500 30': [0.79586, 0.798],\n",
       " 'rfc 100 log2 50 10': [0.72366, 0.7262],\n",
       " 'rfc 100 log2 50 20': [0.77666, 0.7752],\n",
       " 'rfc 100 log2 50 30': [0.79742, 0.797],\n",
       " 'rfc 100 log2 100 10': [0.72418, 0.7239],\n",
       " 'rfc 100 log2 100 20': [0.78338, 0.7817],\n",
       " 'rfc 100 log2 100 30': [0.79602, 0.7941],\n",
       " 'rfc 100 log2 500 10': [0.7311, 0.7334],\n",
       " 'rfc 100 log2 500 20': [0.78094, 0.7796],\n",
       " 'rfc 100 log2 500 30': [0.79508, 0.7944],\n",
       " 'rfc 100 None 50 10': [0.68356, 0.69],\n",
       " 'rfc 100 None 50 20': [0.74924, 0.7496],\n",
       " 'rfc 100 None 50 30': [0.77346, 0.7727],\n",
       " 'rfc 100 None 100 10': [0.68254, 0.688],\n",
       " 'rfc 100 None 100 20': [0.74986, 0.7504],\n",
       " 'rfc 100 None 100 30': [0.77136, 0.768],\n",
       " 'rfc 100 None 500 10': [0.68366, 0.6893],\n",
       " 'rfc 100 None 500 20': [0.74952, 0.7505],\n",
       " 'rfc 100 None 500 30': [0.77166, 0.7705],\n",
       " 'rfc 200 sqrt 50 10': [0.74268, 0.7439],\n",
       " 'rfc 200 sqrt 50 20': [0.78672, 0.7866],\n",
       " 'rfc 200 sqrt 50 30': [0.79934, 0.8016],\n",
       " 'rfc 200 sqrt 100 10': [0.74186, 0.7428],\n",
       " 'rfc 200 sqrt 100 20': [0.7875, 0.7883],\n",
       " 'rfc 200 sqrt 100 30': [0.7997, 0.8024],\n",
       " 'rfc 200 sqrt 500 10': [0.73916, 0.7389],\n",
       " 'rfc 200 sqrt 500 20': [0.78898, 0.7882],\n",
       " 'rfc 200 sqrt 500 30': [0.79858, 0.7999],\n",
       " 'rfc 200 log2 50 10': [0.7255, 0.7274],\n",
       " 'rfc 200 log2 50 20': [0.78134, 0.7815],\n",
       " 'rfc 200 log2 50 30': [0.79716, 0.7983],\n",
       " 'rfc 200 log2 100 10': [0.72698, 0.7287],\n",
       " 'rfc 200 log2 100 20': [0.78116, 0.7798],\n",
       " 'rfc 200 log2 100 30': [0.7972, 0.798],\n",
       " 'rfc 200 log2 500 10': [0.72116, 0.7224],\n",
       " 'rfc 200 log2 500 20': [0.78276, 0.7811],\n",
       " 'rfc 200 log2 500 30': [0.7971, 0.7974],\n",
       " 'rfc 200 None 50 10': [0.682, 0.6887],\n",
       " 'rfc 200 None 50 20': [0.7484, 0.7491],\n",
       " 'rfc 200 None 50 30': [0.77348, 0.7715],\n",
       " 'rfc 200 None 100 10': [0.67954, 0.685],\n",
       " 'rfc 200 None 100 20': [0.74908, 0.75],\n",
       " 'rfc 200 None 100 30': [0.77294, 0.7712],\n",
       " 'rfc 200 None 500 10': [0.67888, 0.6843],\n",
       " 'rfc 200 None 500 20': [0.7491, 0.7506],\n",
       " 'rfc 200 None 500 30': [0.7718, 0.77],\n",
       " 'rfc 500 sqrt 50 10': [0.74214, 0.7427],\n",
       " 'rfc 500 sqrt 50 20': [0.78736, 0.7898],\n",
       " 'rfc 500 sqrt 50 30': [0.79906, 0.8031],\n",
       " 'rfc 500 sqrt 100 10': [0.74238, 0.7424],\n",
       " 'rfc 500 sqrt 100 20': [0.78818, 0.7883],\n",
       " 'rfc 500 sqrt 100 30': [0.79968, 0.8014],\n",
       " 'rfc 500 sqrt 500 10': [0.74238, 0.7424],\n",
       " 'rfc 500 sqrt 500 20': [0.78764, 0.7893],\n",
       " 'rfc 500 sqrt 500 30': [0.79844, 0.8002],\n",
       " 'rfc 500 log2 50 10': [0.72964, 0.7305],\n",
       " 'rfc 500 log2 50 20': [0.78428, 0.7808],\n",
       " 'rfc 500 log2 50 30': [0.79716, 0.7967],\n",
       " 'rfc 500 log2 100 10': [0.73298, 0.7319],\n",
       " 'rfc 500 log2 100 20': [0.7854, 0.7827],\n",
       " 'rfc 500 log2 100 30': [0.79692, 0.797],\n",
       " 'rfc 500 log2 500 10': [0.73168, 0.7329],\n",
       " 'rfc 500 log2 500 20': [0.78104, 0.7788],\n",
       " 'rfc 500 log2 500 30': [0.79674, 0.7967],\n",
       " 'rfc 500 None 50 10': [0.68182, 0.6878],\n",
       " 'rfc 500 None 50 20': [0.7491, 0.7506],\n",
       " 'rfc 500 None 50 30': [0.77288, 0.7719],\n",
       " 'rfc 500 None 100 10': [0.68064, 0.686],\n",
       " 'rfc 500 None 100 20': [0.7487, 0.7492],\n",
       " 'rfc 500 None 100 30': [0.77316, 0.7715],\n",
       " 'rfc 500 None 500 10': [0.6796, 0.6857],\n",
       " 'rfc 500 None 500 20': [0.74894, 0.7496],\n",
       " 'rfc 500 None 500 30': [0.7721, 0.7686]}"
      ]
     },
     "execution_count": 62,
     "metadata": {},
     "output_type": "execute_result"
    }
   ],
   "source": [
    "d"
   ]
  },
  {
   "cell_type": "markdown",
   "id": "7d2fe75a",
   "metadata": {},
   "source": [
    "- We noticed that as we increase the number of max_leaf nodes here the validation scores increases as it lets tree to dive deeper and make more complex decisions ultimatley increasing the accuracy.\n",
    "- The maximum depth hyperparameter, max_depth doesn't have much impact on the model's performance as both the training and validation accuracy are more or less same for different max_depth values, but high max_depth drastically increases the training time of the model.\n",
    "- The max_features hyperparameter has a significant impact on the model's performance and the model does better for max_features = 'sqrt', i.e. the tree has to look at only at sqrt(n) features at each node to find the best feature to split the node. For max_features = None, the model looks at all the features but doesn't fit well to the training data as the images have border pixel values 0, which don't have any importance as compared to the center pixels. Large values of max_features increases the training time as well.\n",
    "- The number of decision trees, i.e. n_estimators feature doesn't have any considerable impact as 100 decision trees have approximately same accuracy as that of 500 estimators, indicating that the model is converging even with small number of decision trees. By consderable impact, we mean that small number of trees is sufficient for the model to fit the training data well.\n",
    "- With the right balance we find out the best model for our random forest with hyperparameters n_estimators=100, max_features='sqrt', max_depth=50 and max_leafnodes=30': [training score 0.79886, validation score 0.8026] which are nearly equal and suitable for our dataset and does not signal overfitting or underfitting. Hence it is able to generalize well on the validation set.\n"
   ]
  },
  {
   "cell_type": "markdown",
   "id": "9db0dc96",
   "metadata": {},
   "source": [
    "### Analyzing Feature Importance"
   ]
  },
  {
   "cell_type": "code",
   "execution_count": 65,
   "id": "8a1dcb5d",
   "metadata": {},
   "outputs": [
    {
     "data": {
      "text/html": [
       "<style>#sk-container-id-1 {color: black;background-color: white;}#sk-container-id-1 pre{padding: 0;}#sk-container-id-1 div.sk-toggleable {background-color: white;}#sk-container-id-1 label.sk-toggleable__label {cursor: pointer;display: block;width: 100%;margin-bottom: 0;padding: 0.3em;box-sizing: border-box;text-align: center;}#sk-container-id-1 label.sk-toggleable__label-arrow:before {content: \"▸\";float: left;margin-right: 0.25em;color: #696969;}#sk-container-id-1 label.sk-toggleable__label-arrow:hover:before {color: black;}#sk-container-id-1 div.sk-estimator:hover label.sk-toggleable__label-arrow:before {color: black;}#sk-container-id-1 div.sk-toggleable__content {max-height: 0;max-width: 0;overflow: hidden;text-align: left;background-color: #f0f8ff;}#sk-container-id-1 div.sk-toggleable__content pre {margin: 0.2em;color: black;border-radius: 0.25em;background-color: #f0f8ff;}#sk-container-id-1 input.sk-toggleable__control:checked~div.sk-toggleable__content {max-height: 200px;max-width: 100%;overflow: auto;}#sk-container-id-1 input.sk-toggleable__control:checked~label.sk-toggleable__label-arrow:before {content: \"▾\";}#sk-container-id-1 div.sk-estimator input.sk-toggleable__control:checked~label.sk-toggleable__label {background-color: #d4ebff;}#sk-container-id-1 div.sk-label input.sk-toggleable__control:checked~label.sk-toggleable__label {background-color: #d4ebff;}#sk-container-id-1 input.sk-hidden--visually {border: 0;clip: rect(1px 1px 1px 1px);clip: rect(1px, 1px, 1px, 1px);height: 1px;margin: -1px;overflow: hidden;padding: 0;position: absolute;width: 1px;}#sk-container-id-1 div.sk-estimator {font-family: monospace;background-color: #f0f8ff;border: 1px dotted black;border-radius: 0.25em;box-sizing: border-box;margin-bottom: 0.5em;}#sk-container-id-1 div.sk-estimator:hover {background-color: #d4ebff;}#sk-container-id-1 div.sk-parallel-item::after {content: \"\";width: 100%;border-bottom: 1px solid gray;flex-grow: 1;}#sk-container-id-1 div.sk-label:hover label.sk-toggleable__label {background-color: #d4ebff;}#sk-container-id-1 div.sk-serial::before {content: \"\";position: absolute;border-left: 1px solid gray;box-sizing: border-box;top: 0;bottom: 0;left: 50%;z-index: 0;}#sk-container-id-1 div.sk-serial {display: flex;flex-direction: column;align-items: center;background-color: white;padding-right: 0.2em;padding-left: 0.2em;position: relative;}#sk-container-id-1 div.sk-item {position: relative;z-index: 1;}#sk-container-id-1 div.sk-parallel {display: flex;align-items: stretch;justify-content: center;background-color: white;position: relative;}#sk-container-id-1 div.sk-item::before, #sk-container-id-1 div.sk-parallel-item::before {content: \"\";position: absolute;border-left: 1px solid gray;box-sizing: border-box;top: 0;bottom: 0;left: 50%;z-index: -1;}#sk-container-id-1 div.sk-parallel-item {display: flex;flex-direction: column;z-index: 1;position: relative;background-color: white;}#sk-container-id-1 div.sk-parallel-item:first-child::after {align-self: flex-end;width: 50%;}#sk-container-id-1 div.sk-parallel-item:last-child::after {align-self: flex-start;width: 50%;}#sk-container-id-1 div.sk-parallel-item:only-child::after {width: 0;}#sk-container-id-1 div.sk-dashed-wrapped {border: 1px dashed gray;margin: 0 0.4em 0.5em 0.4em;box-sizing: border-box;padding-bottom: 0.4em;background-color: white;}#sk-container-id-1 div.sk-label label {font-family: monospace;font-weight: bold;display: inline-block;line-height: 1.2em;}#sk-container-id-1 div.sk-label-container {text-align: center;}#sk-container-id-1 div.sk-container {/* jupyter's `normalize.less` sets `[hidden] { display: none; }` but bootstrap.min.css set `[hidden] { display: none !important; }` so we also need the `!important` here to be able to override the default hidden behavior on the sphinx rendered scikit-learn.org. See: https://github.com/scikit-learn/scikit-learn/issues/21755 */display: inline-block !important;position: relative;}#sk-container-id-1 div.sk-text-repr-fallback {display: none;}</style><div id=\"sk-container-id-1\" class=\"sk-top-container\"><div class=\"sk-text-repr-fallback\"><pre>RandomForestClassifier(max_depth=50, max_leaf_nodes=30, n_jobs=-1)</pre><b>In a Jupyter environment, please rerun this cell to show the HTML representation or trust the notebook. <br />On GitHub, the HTML representation is unable to render, please try loading this page with nbviewer.org.</b></div><div class=\"sk-container\" hidden><div class=\"sk-item\"><div class=\"sk-estimator sk-toggleable\"><input class=\"sk-toggleable__control sk-hidden--visually\" id=\"sk-estimator-id-1\" type=\"checkbox\" checked><label for=\"sk-estimator-id-1\" class=\"sk-toggleable__label sk-toggleable__label-arrow\">RandomForestClassifier</label><div class=\"sk-toggleable__content\"><pre>RandomForestClassifier(max_depth=50, max_leaf_nodes=30, n_jobs=-1)</pre></div></div></div></div></div>"
      ],
      "text/plain": [
       "RandomForestClassifier(max_depth=50, max_leaf_nodes=30, n_jobs=-1)"
      ]
     },
     "execution_count": 65,
     "metadata": {},
     "output_type": "execute_result"
    }
   ],
   "source": [
    "rfc1 = RandomForestClassifier(n_estimators=100, max_features=\"sqrt\", max_depth=50, max_leaf_nodes=30, n_jobs=-1)\n",
    "rfc1.fit(X_train,y_train)"
   ]
  },
  {
   "cell_type": "code",
   "execution_count": 74,
   "id": "6ba6ddb8",
   "metadata": {},
   "outputs": [],
   "source": [
    "array1=rfc1.feature_importances_\n",
    "array1 = np.expand_dims(array1,axis=1)\n"
   ]
  },
  {
   "cell_type": "code",
   "execution_count": 79,
   "id": "3d5e3d9d",
   "metadata": {},
   "outputs": [
    {
     "data": {
      "text/plain": [
       "(784, 1)"
      ]
     },
     "execution_count": 79,
     "metadata": {},
     "output_type": "execute_result"
    }
   ],
   "source": [
    "array1.shape"
   ]
  },
  {
   "cell_type": "code",
   "execution_count": 80,
   "id": "3c2b05bd",
   "metadata": {},
   "outputs": [
    {
     "data": {
      "text/plain": [
       "<AxesSubplot:>"
      ]
     },
     "execution_count": 80,
     "metadata": {},
     "output_type": "execute_result"
    },
    {
     "data": {
      "image/png": "[encoded data removed]",
      "text/plain": [
       "<Figure size 432x288 with 2 Axes>"
      ]
     },
     "metadata": {
      "needs_background": "light"
     },
     "output_type": "display_data"
    }
   ],
   "source": [
    "sns.heatmap(array1.reshape((28,28)))"
   ]
  },
  {
   "cell_type": "markdown",
   "id": "eeee0f0a",
   "metadata": {},
   "source": [
    "- In analyzing feature importance the centre of the image or pixel(white spot in above heat map) seem to be more important as it is the core of distinguishing images from one another rather than the borders which can be seen black in the above heat map.\n",
    "- It also shows that most of the relevant information of each image is concentrated in the center pixels rather than the border pixels."
   ]
  },
  {
   "cell_type": "markdown",
   "id": "69e4410c",
   "metadata": {},
   "source": [
    "#### Ensemble Different Classifiers "
   ]
  },
  {
   "cell_type": "markdown",
   "id": "a3c025c4",
   "metadata": {},
   "source": [
    "#### Then,  combine  your  classifiers  into an  ensemble  that outperforms  each  individual  classifier  on  the validation set. Once you have found one, try it on the test set. Describe and discuss your findings. "
   ]
  },
  {
   "cell_type": "markdown",
   "id": "08193c30",
   "metadata": {},
   "source": [
    "###### Hard Voting Classifier"
   ]
  },
  {
   "cell_type": "code",
   "execution_count": 98,
   "id": "7abb0182",
   "metadata": {},
   "outputs": [
    {
     "data": {
      "text/html": [
       "<style>#sk-container-id-4 {color: black;background-color: white;}#sk-container-id-4 pre{padding: 0;}#sk-container-id-4 div.sk-toggleable {background-color: white;}#sk-container-id-4 label.sk-toggleable__label {cursor: pointer;display: block;width: 100%;margin-bottom: 0;padding: 0.3em;box-sizing: border-box;text-align: center;}#sk-container-id-4 label.sk-toggleable__label-arrow:before {content: \"▸\";float: left;margin-right: 0.25em;color: #696969;}#sk-container-id-4 label.sk-toggleable__label-arrow:hover:before {color: black;}#sk-container-id-4 div.sk-estimator:hover label.sk-toggleable__label-arrow:before {color: black;}#sk-container-id-4 div.sk-toggleable__content {max-height: 0;max-width: 0;overflow: hidden;text-align: left;background-color: #f0f8ff;}#sk-container-id-4 div.sk-toggleable__content pre {margin: 0.2em;color: black;border-radius: 0.25em;background-color: #f0f8ff;}#sk-container-id-4 input.sk-toggleable__control:checked~div.sk-toggleable__content {max-height: 200px;max-width: 100%;overflow: auto;}#sk-container-id-4 input.sk-toggleable__control:checked~label.sk-toggleable__label-arrow:before {content: \"▾\";}#sk-container-id-4 div.sk-estimator input.sk-toggleable__control:checked~label.sk-toggleable__label {background-color: #d4ebff;}#sk-container-id-4 div.sk-label input.sk-toggleable__control:checked~label.sk-toggleable__label {background-color: #d4ebff;}#sk-container-id-4 input.sk-hidden--visually {border: 0;clip: rect(1px 1px 1px 1px);clip: rect(1px, 1px, 1px, 1px);height: 1px;margin: -1px;overflow: hidden;padding: 0;position: absolute;width: 1px;}#sk-container-id-4 div.sk-estimator {font-family: monospace;background-color: #f0f8ff;border: 1px dotted black;border-radius: 0.25em;box-sizing: border-box;margin-bottom: 0.5em;}#sk-container-id-4 div.sk-estimator:hover {background-color: #d4ebff;}#sk-container-id-4 div.sk-parallel-item::after {content: \"\";width: 100%;border-bottom: 1px solid gray;flex-grow: 1;}#sk-container-id-4 div.sk-label:hover label.sk-toggleable__label {background-color: #d4ebff;}#sk-container-id-4 div.sk-serial::before {content: \"\";position: absolute;border-left: 1px solid gray;box-sizing: border-box;top: 0;bottom: 0;left: 50%;z-index: 0;}#sk-container-id-4 div.sk-serial {display: flex;flex-direction: column;align-items: center;background-color: white;padding-right: 0.2em;padding-left: 0.2em;position: relative;}#sk-container-id-4 div.sk-item {position: relative;z-index: 1;}#sk-container-id-4 div.sk-parallel {display: flex;align-items: stretch;justify-content: center;background-color: white;position: relative;}#sk-container-id-4 div.sk-item::before, #sk-container-id-4 div.sk-parallel-item::before {content: \"\";position: absolute;border-left: 1px solid gray;box-sizing: border-box;top: 0;bottom: 0;left: 50%;z-index: -1;}#sk-container-id-4 div.sk-parallel-item {display: flex;flex-direction: column;z-index: 1;position: relative;background-color: white;}#sk-container-id-4 div.sk-parallel-item:first-child::after {align-self: flex-end;width: 50%;}#sk-container-id-4 div.sk-parallel-item:last-child::after {align-self: flex-start;width: 50%;}#sk-container-id-4 div.sk-parallel-item:only-child::after {width: 0;}#sk-container-id-4 div.sk-dashed-wrapped {border: 1px dashed gray;margin: 0 0.4em 0.5em 0.4em;box-sizing: border-box;padding-bottom: 0.4em;background-color: white;}#sk-container-id-4 div.sk-label label {font-family: monospace;font-weight: bold;display: inline-block;line-height: 1.2em;}#sk-container-id-4 div.sk-label-container {text-align: center;}#sk-container-id-4 div.sk-container {/* jupyter's `normalize.less` sets `[hidden] { display: none; }` but bootstrap.min.css set `[hidden] { display: none !important; }` so we also need the `!important` here to be able to override the default hidden behavior on the sphinx rendered scikit-learn.org. See: https://github.com/scikit-learn/scikit-learn/issues/21755 */display: inline-block !important;position: relative;}#sk-container-id-4 div.sk-text-repr-fallback {display: none;}</style><div id=\"sk-container-id-4\" class=\"sk-top-container\"><div class=\"sk-text-repr-fallback\"><pre>VotingClassifier(estimators=[(&#x27;lr&#x27;,\n",
       "                              LogisticRegression(C=0.1, max_iter=1000,\n",
       "                                                 multi_class=&#x27;multinomial&#x27;,\n",
       "                                                 random_state=4)),\n",
       "                             (&#x27;rf&#x27;,\n",
       "                              RandomForestClassifier(max_depth=50,\n",
       "                                                     max_leaf_nodes=30,\n",
       "                                                     n_jobs=-1)),\n",
       "                             (&#x27;svc&#x27;, SVC(C=1, max_iter=1000))])</pre><b>In a Jupyter environment, please rerun this cell to show the HTML representation or trust the notebook. <br />On GitHub, the HTML representation is unable to render, please try loading this page with nbviewer.org.</b></div><div class=\"sk-container\" hidden><div class=\"sk-item sk-dashed-wrapped\"><div class=\"sk-label-container\"><div class=\"sk-label sk-toggleable\"><input class=\"sk-toggleable__control sk-hidden--visually\" id=\"sk-estimator-id-10\" type=\"checkbox\" ><label for=\"sk-estimator-id-10\" class=\"sk-toggleable__label sk-toggleable__label-arrow\">VotingClassifier</label><div class=\"sk-toggleable__content\"><pre>VotingClassifier(estimators=[(&#x27;lr&#x27;,\n",
       "                              LogisticRegression(C=0.1, max_iter=1000,\n",
       "                                                 multi_class=&#x27;multinomial&#x27;,\n",
       "                                                 random_state=4)),\n",
       "                             (&#x27;rf&#x27;,\n",
       "                              RandomForestClassifier(max_depth=50,\n",
       "                                                     max_leaf_nodes=30,\n",
       "                                                     n_jobs=-1)),\n",
       "                             (&#x27;svc&#x27;, SVC(C=1, max_iter=1000))])</pre></div></div></div><div class=\"sk-parallel\"><div class=\"sk-parallel-item\"><div class=\"sk-item\"><div class=\"sk-label-container\"><div class=\"sk-label sk-toggleable\"><label>lr</label></div></div><div class=\"sk-serial\"><div class=\"sk-item\"><div class=\"sk-estimator sk-toggleable\"><input class=\"sk-toggleable__control sk-hidden--visually\" id=\"sk-estimator-id-11\" type=\"checkbox\" ><label for=\"sk-estimator-id-11\" class=\"sk-toggleable__label sk-toggleable__label-arrow\">LogisticRegression</label><div class=\"sk-toggleable__content\"><pre>LogisticRegression(C=0.1, max_iter=1000, multi_class=&#x27;multinomial&#x27;,\n",
       "                   random_state=4)</pre></div></div></div></div></div></div><div class=\"sk-parallel-item\"><div class=\"sk-item\"><div class=\"sk-label-container\"><div class=\"sk-label sk-toggleable\"><label>rf</label></div></div><div class=\"sk-serial\"><div class=\"sk-item\"><div class=\"sk-estimator sk-toggleable\"><input class=\"sk-toggleable__control sk-hidden--visually\" id=\"sk-estimator-id-12\" type=\"checkbox\" ><label for=\"sk-estimator-id-12\" class=\"sk-toggleable__label sk-toggleable__label-arrow\">RandomForestClassifier</label><div class=\"sk-toggleable__content\"><pre>RandomForestClassifier(max_depth=50, max_leaf_nodes=30, n_jobs=-1)</pre></div></div></div></div></div></div><div class=\"sk-parallel-item\"><div class=\"sk-item\"><div class=\"sk-label-container\"><div class=\"sk-label sk-toggleable\"><label>svc</label></div></div><div class=\"sk-serial\"><div class=\"sk-item\"><div class=\"sk-estimator sk-toggleable\"><input class=\"sk-toggleable__control sk-hidden--visually\" id=\"sk-estimator-id-13\" type=\"checkbox\" ><label for=\"sk-estimator-id-13\" class=\"sk-toggleable__label sk-toggleable__label-arrow\">SVC</label><div class=\"sk-toggleable__content\"><pre>SVC(C=1, max_iter=1000)</pre></div></div></div></div></div></div></div></div></div></div>"
      ],
      "text/plain": [
       "VotingClassifier(estimators=[('lr',\n",
       "                              LogisticRegression(C=0.1, max_iter=1000,\n",
       "                                                 multi_class='multinomial',\n",
       "                                                 random_state=4)),\n",
       "                             ('rf',\n",
       "                              RandomForestClassifier(max_depth=50,\n",
       "                                                     max_leaf_nodes=30,\n",
       "                                                     n_jobs=-1)),\n",
       "                             ('svc', SVC(C=1, max_iter=1000))])"
      ]
     },
     "execution_count": 98,
     "metadata": {},
     "output_type": "execute_result"
    }
   ],
   "source": [
    "from sklearn.ensemble import VotingClassifier\n",
    "bestsoftmaxreg=LogisticRegression(multi_class=\"multinomial\",solver=\"lbfgs\",max_iter=1000, C=0.1, random_state=4)\n",
    "bestsvm=SVC(kernel=\"rbf\",C=1,max_iter=1000)\n",
    "bestrfc=RandomForestClassifier(n_estimators=100, max_features=\"sqrt\", max_depth=50, max_leaf_nodes=30, n_jobs=-1)\n",
    "voting_clf = VotingClassifier(\n",
    "estimators=[('lr', bestsoftmaxreg), ('rf', bestrfc), ('svc', bestsvm)],\n",
    "voting='hard')\n",
    "voting_clf.fit(X_trainpca, y_train.values.ravel())\n"
   ]
  },
  {
   "cell_type": "code",
   "execution_count": 86,
   "id": "9daac54a",
   "metadata": {},
   "outputs": [
    {
     "name": "stdout",
     "output_type": "stream",
     "text": [
      "LogisticRegression 0.8584\n",
      "RandomForestClassifier 0.7795\n",
      "SVC 0.8575\n",
      "VotingClassifier 0.8671\n"
     ]
    }
   ],
   "source": [
    "from sklearn.metrics import accuracy_score\n",
    "for clf in (bestsoftmaxreg, bestrfc, bestsvm, voting_clf):\n",
    "    clf.fit(X_trainpca, y_train)\n",
    "    y_pred = clf.predict(X_valpca)\n",
    "    print(clf.__class__.__name__, accuracy_score(y_val, y_pred))"
   ]
  },
  {
   "cell_type": "markdown",
   "id": "52f2e125",
   "metadata": {},
   "source": [
    "- We can see that our voting classifier outperforms each individual classifier giving us the highest accuracy of 0.86 out of the all other classifiers which we selected. This shows that ensembling increases the performance of weak learners by taking a vote of multiple individual classifiers before classifying the instances to the classes."
   ]
  },
  {
   "cell_type": "markdown",
   "id": "85e3ab43",
   "metadata": {},
   "source": [
    "### Soft Voting Classifier"
   ]
  },
  {
   "cell_type": "code",
   "execution_count": 87,
   "id": "77afebae",
   "metadata": {},
   "outputs": [
    {
     "data": {
      "text/html": [
       "<style>#sk-container-id-3 {color: black;background-color: white;}#sk-container-id-3 pre{padding: 0;}#sk-container-id-3 div.sk-toggleable {background-color: white;}#sk-container-id-3 label.sk-toggleable__label {cursor: pointer;display: block;width: 100%;margin-bottom: 0;padding: 0.3em;box-sizing: border-box;text-align: center;}#sk-container-id-3 label.sk-toggleable__label-arrow:before {content: \"▸\";float: left;margin-right: 0.25em;color: #696969;}#sk-container-id-3 label.sk-toggleable__label-arrow:hover:before {color: black;}#sk-container-id-3 div.sk-estimator:hover label.sk-toggleable__label-arrow:before {color: black;}#sk-container-id-3 div.sk-toggleable__content {max-height: 0;max-width: 0;overflow: hidden;text-align: left;background-color: #f0f8ff;}#sk-container-id-3 div.sk-toggleable__content pre {margin: 0.2em;color: black;border-radius: 0.25em;background-color: #f0f8ff;}#sk-container-id-3 input.sk-toggleable__control:checked~div.sk-toggleable__content {max-height: 200px;max-width: 100%;overflow: auto;}#sk-container-id-3 input.sk-toggleable__control:checked~label.sk-toggleable__label-arrow:before {content: \"▾\";}#sk-container-id-3 div.sk-estimator input.sk-toggleable__control:checked~label.sk-toggleable__label {background-color: #d4ebff;}#sk-container-id-3 div.sk-label input.sk-toggleable__control:checked~label.sk-toggleable__label {background-color: #d4ebff;}#sk-container-id-3 input.sk-hidden--visually {border: 0;clip: rect(1px 1px 1px 1px);clip: rect(1px, 1px, 1px, 1px);height: 1px;margin: -1px;overflow: hidden;padding: 0;position: absolute;width: 1px;}#sk-container-id-3 div.sk-estimator {font-family: monospace;background-color: #f0f8ff;border: 1px dotted black;border-radius: 0.25em;box-sizing: border-box;margin-bottom: 0.5em;}#sk-container-id-3 div.sk-estimator:hover {background-color: #d4ebff;}#sk-container-id-3 div.sk-parallel-item::after {content: \"\";width: 100%;border-bottom: 1px solid gray;flex-grow: 1;}#sk-container-id-3 div.sk-label:hover label.sk-toggleable__label {background-color: #d4ebff;}#sk-container-id-3 div.sk-serial::before {content: \"\";position: absolute;border-left: 1px solid gray;box-sizing: border-box;top: 0;bottom: 0;left: 50%;z-index: 0;}#sk-container-id-3 div.sk-serial {display: flex;flex-direction: column;align-items: center;background-color: white;padding-right: 0.2em;padding-left: 0.2em;position: relative;}#sk-container-id-3 div.sk-item {position: relative;z-index: 1;}#sk-container-id-3 div.sk-parallel {display: flex;align-items: stretch;justify-content: center;background-color: white;position: relative;}#sk-container-id-3 div.sk-item::before, #sk-container-id-3 div.sk-parallel-item::before {content: \"\";position: absolute;border-left: 1px solid gray;box-sizing: border-box;top: 0;bottom: 0;left: 50%;z-index: -1;}#sk-container-id-3 div.sk-parallel-item {display: flex;flex-direction: column;z-index: 1;position: relative;background-color: white;}#sk-container-id-3 div.sk-parallel-item:first-child::after {align-self: flex-end;width: 50%;}#sk-container-id-3 div.sk-parallel-item:last-child::after {align-self: flex-start;width: 50%;}#sk-container-id-3 div.sk-parallel-item:only-child::after {width: 0;}#sk-container-id-3 div.sk-dashed-wrapped {border: 1px dashed gray;margin: 0 0.4em 0.5em 0.4em;box-sizing: border-box;padding-bottom: 0.4em;background-color: white;}#sk-container-id-3 div.sk-label label {font-family: monospace;font-weight: bold;display: inline-block;line-height: 1.2em;}#sk-container-id-3 div.sk-label-container {text-align: center;}#sk-container-id-3 div.sk-container {/* jupyter's `normalize.less` sets `[hidden] { display: none; }` but bootstrap.min.css set `[hidden] { display: none !important; }` so we also need the `!important` here to be able to override the default hidden behavior on the sphinx rendered scikit-learn.org. See: https://github.com/scikit-learn/scikit-learn/issues/21755 */display: inline-block !important;position: relative;}#sk-container-id-3 div.sk-text-repr-fallback {display: none;}</style><div id=\"sk-container-id-3\" class=\"sk-top-container\"><div class=\"sk-text-repr-fallback\"><pre>VotingClassifier(estimators=[(&#x27;lr&#x27;,\n",
       "                              LogisticRegression(C=0.1, max_iter=1000,\n",
       "                                                 multi_class=&#x27;multinomial&#x27;,\n",
       "                                                 random_state=4)),\n",
       "                             (&#x27;rf&#x27;,\n",
       "                              RandomForestClassifier(max_depth=50,\n",
       "                                                     max_leaf_nodes=30,\n",
       "                                                     n_jobs=-1)),\n",
       "                             (&#x27;svc&#x27;,\n",
       "                              SVC(C=1, max_iter=1000, probability=True))],\n",
       "                 voting=&#x27;soft&#x27;)</pre><b>In a Jupyter environment, please rerun this cell to show the HTML representation or trust the notebook. <br />On GitHub, the HTML representation is unable to render, please try loading this page with nbviewer.org.</b></div><div class=\"sk-container\" hidden><div class=\"sk-item sk-dashed-wrapped\"><div class=\"sk-label-container\"><div class=\"sk-label sk-toggleable\"><input class=\"sk-toggleable__control sk-hidden--visually\" id=\"sk-estimator-id-6\" type=\"checkbox\" ><label for=\"sk-estimator-id-6\" class=\"sk-toggleable__label sk-toggleable__label-arrow\">VotingClassifier</label><div class=\"sk-toggleable__content\"><pre>VotingClassifier(estimators=[(&#x27;lr&#x27;,\n",
       "                              LogisticRegression(C=0.1, max_iter=1000,\n",
       "                                                 multi_class=&#x27;multinomial&#x27;,\n",
       "                                                 random_state=4)),\n",
       "                             (&#x27;rf&#x27;,\n",
       "                              RandomForestClassifier(max_depth=50,\n",
       "                                                     max_leaf_nodes=30,\n",
       "                                                     n_jobs=-1)),\n",
       "                             (&#x27;svc&#x27;,\n",
       "                              SVC(C=1, max_iter=1000, probability=True))],\n",
       "                 voting=&#x27;soft&#x27;)</pre></div></div></div><div class=\"sk-parallel\"><div class=\"sk-parallel-item\"><div class=\"sk-item\"><div class=\"sk-label-container\"><div class=\"sk-label sk-toggleable\"><label>lr</label></div></div><div class=\"sk-serial\"><div class=\"sk-item\"><div class=\"sk-estimator sk-toggleable\"><input class=\"sk-toggleable__control sk-hidden--visually\" id=\"sk-estimator-id-7\" type=\"checkbox\" ><label for=\"sk-estimator-id-7\" class=\"sk-toggleable__label sk-toggleable__label-arrow\">LogisticRegression</label><div class=\"sk-toggleable__content\"><pre>LogisticRegression(C=0.1, max_iter=1000, multi_class=&#x27;multinomial&#x27;,\n",
       "                   random_state=4)</pre></div></div></div></div></div></div><div class=\"sk-parallel-item\"><div class=\"sk-item\"><div class=\"sk-label-container\"><div class=\"sk-label sk-toggleable\"><label>rf</label></div></div><div class=\"sk-serial\"><div class=\"sk-item\"><div class=\"sk-estimator sk-toggleable\"><input class=\"sk-toggleable__control sk-hidden--visually\" id=\"sk-estimator-id-8\" type=\"checkbox\" ><label for=\"sk-estimator-id-8\" class=\"sk-toggleable__label sk-toggleable__label-arrow\">RandomForestClassifier</label><div class=\"sk-toggleable__content\"><pre>RandomForestClassifier(max_depth=50, max_leaf_nodes=30, n_jobs=-1)</pre></div></div></div></div></div></div><div class=\"sk-parallel-item\"><div class=\"sk-item\"><div class=\"sk-label-container\"><div class=\"sk-label sk-toggleable\"><label>svc</label></div></div><div class=\"sk-serial\"><div class=\"sk-item\"><div class=\"sk-estimator sk-toggleable\"><input class=\"sk-toggleable__control sk-hidden--visually\" id=\"sk-estimator-id-9\" type=\"checkbox\" ><label for=\"sk-estimator-id-9\" class=\"sk-toggleable__label sk-toggleable__label-arrow\">SVC</label><div class=\"sk-toggleable__content\"><pre>SVC(C=1, max_iter=1000, probability=True)</pre></div></div></div></div></div></div></div></div></div></div>"
      ],
      "text/plain": [
       "VotingClassifier(estimators=[('lr',\n",
       "                              LogisticRegression(C=0.1, max_iter=1000,\n",
       "                                                 multi_class='multinomial',\n",
       "                                                 random_state=4)),\n",
       "                             ('rf',\n",
       "                              RandomForestClassifier(max_depth=50,\n",
       "                                                     max_leaf_nodes=30,\n",
       "                                                     n_jobs=-1)),\n",
       "                             ('svc',\n",
       "                              SVC(C=1, max_iter=1000, probability=True))],\n",
       "                 voting='soft')"
      ]
     },
     "execution_count": 87,
     "metadata": {},
     "output_type": "execute_result"
    }
   ],
   "source": [
    "bestsvm1=SVC(kernel=\"rbf\",C=1,max_iter=1000,probability=True)## setting prob as true for soft voting\n",
    "voting_clf = VotingClassifier(\n",
    "estimators=[('lr', bestsoftmaxreg), ('rf', bestrfc), ('svc', bestsvm1)],\n",
    "voting='soft')\n",
    "voting_clf.fit(X_trainpca, y_train.values.ravel())\n"
   ]
  },
  {
   "cell_type": "code",
   "execution_count": 88,
   "id": "99ba0b56",
   "metadata": {},
   "outputs": [
    {
     "name": "stdout",
     "output_type": "stream",
     "text": [
      "LogisticRegression 0.8584\n",
      "RandomForestClassifier 0.7818\n",
      "SVC 0.8575\n",
      "VotingClassifier 0.8674\n"
     ]
    }
   ],
   "source": [
    "from sklearn.metrics import accuracy_score\n",
    "for clf in (bestsoftmaxreg, bestrfc, bestsvm1, voting_clf):\n",
    "    clf.fit(X_trainpca, y_train)\n",
    "    y_pred = clf.predict(X_valpca)\n",
    "    print(clf.__class__.__name__, accuracy_score(y_val, y_pred))"
   ]
  },
  {
   "cell_type": "markdown",
   "id": "0e6d846b",
   "metadata": {},
   "source": [
    "- In Soft Voting too the classifier outperforms other classifer giving us an accuracy of 0.86 which is highest of all the classifiers which we selected.\n",
    "- Soft voting performs slightly better than the hard voting as now the ensemble decides the class of instances based on the probability scores of individual classifiers rather than their final decision of predicted class. "
   ]
  },
  {
   "cell_type": "markdown",
   "id": "6f050e2d",
   "metadata": {},
   "source": [
    "### Predicting on our Test Data"
   ]
  },
  {
   "cell_type": "markdown",
   "id": "43d1732d",
   "metadata": {},
   "source": [
    "- SoftMax"
   ]
  },
  {
   "cell_type": "code",
   "execution_count": 101,
   "id": "57af7836",
   "metadata": {},
   "outputs": [
    {
     "name": "stdout",
     "output_type": "stream",
     "text": [
      "Accuracy on the Testing Data 0.8571\n"
     ]
    },
    {
     "data": {
      "text/plain": [
       "<AxesSubplot:>"
      ]
     },
     "execution_count": 101,
     "metadata": {},
     "output_type": "execute_result"
    },
    {
     "data": {
      "image/png": "[encoded data removed]",
      "text/plain": [
       "<Figure size 432x288 with 2 Axes>"
      ]
     },
     "metadata": {
      "needs_background": "light"
     },
     "output_type": "display_data"
    }
   ],
   "source": [
    "bestsoftmaxreg=LogisticRegression(multi_class=\"multinomial\",solver=\"lbfgs\",max_iter=1000, C=0.1, random_state=42)\n",
    "bestsoftmaxreg.fit(X_train,y_train)\n",
    "ypred=bestsoftmaxreg.predict(x_test)\n",
    "print(\"Accuracy on the Testing Data\",bestsoftmaxreg.score(x_test,y_test))\n",
    "confusionmat=confusion_matrix(y_test,ypred)\n",
    "sns.heatmap(confusionmat)"
   ]
  },
  {
   "cell_type": "markdown",
   "id": "4f428ea9",
   "metadata": {},
   "source": [
    "- SVM"
   ]
  },
  {
   "cell_type": "code",
   "execution_count": 102,
   "id": "8cd62007",
   "metadata": {},
   "outputs": [
    {
     "name": "stdout",
     "output_type": "stream",
     "text": [
      "Accuracy on the Testing Data 0.8583\n"
     ]
    },
    {
     "data": {
      "text/plain": [
       "<AxesSubplot:>"
      ]
     },
     "execution_count": 102,
     "metadata": {},
     "output_type": "execute_result"
    },
    {
     "data": {
      "image/png": "[encoded data removed]",
      "text/plain": [
       "<Figure size 432x288 with 2 Axes>"
      ]
     },
     "metadata": {
      "needs_background": "light"
     },
     "output_type": "display_data"
    }
   ],
   "source": [
    "bestsvm=SVC(kernel=\"rbf\",C=1,max_iter=1000)\n",
    "bestsvm.fit(X_trainpca,y_train)\n",
    "ypred=bestsvm.predict(X_testpca)\n",
    "print(\"Accuracy on the Testing Data\",bestsvm.score(X_testpca,y_test))\n",
    "confusionmat=confusion_matrix(y_test,ypred)\n",
    "sns.heatmap(confusionmat)"
   ]
  },
  {
   "cell_type": "markdown",
   "id": "aa5d482e",
   "metadata": {},
   "source": [
    "- Random Forest"
   ]
  },
  {
   "cell_type": "code",
   "execution_count": 103,
   "id": "902728ef",
   "metadata": {},
   "outputs": [
    {
     "name": "stdout",
     "output_type": "stream",
     "text": [
      "Accuracy on the Testing Data 0.7931\n"
     ]
    },
    {
     "data": {
      "text/plain": [
       "<AxesSubplot:>"
      ]
     },
     "execution_count": 103,
     "metadata": {},
     "output_type": "execute_result"
    },
    {
     "data": {
      "image/png": "[encoded data removed]",
      "text/plain": [
       "<Figure size 432x288 with 2 Axes>"
      ]
     },
     "metadata": {
      "needs_background": "light"
     },
     "output_type": "display_data"
    }
   ],
   "source": [
    "bestrfc=RandomForestClassifier(n_estimators=100, max_features=\"sqrt\", max_depth=50, max_leaf_nodes=30, n_jobs=-1)\n",
    "bestrfc.fit(X_train,y_train)\n",
    "ypred=bestrfc.predict(x_test)\n",
    "print(\"Accuracy on the Testing Data\",bestrfc.score(x_test,y_test))\n",
    "confusionmat=confusion_matrix(y_test,ypred)\n",
    "sns.heatmap(confusionmat)"
   ]
  },
  {
   "cell_type": "markdown",
   "id": "3213434c",
   "metadata": {},
   "source": [
    "- Hard Voting Classifier"
   ]
  },
  {
   "cell_type": "code",
   "execution_count": 104,
   "id": "3f637918",
   "metadata": {},
   "outputs": [
    {
     "name": "stdout",
     "output_type": "stream",
     "text": [
      "Accuracy on the Testing Data 0.8662\n"
     ]
    },
    {
     "data": {
      "text/plain": [
       "<AxesSubplot:>"
      ]
     },
     "execution_count": 104,
     "metadata": {},
     "output_type": "execute_result"
    },
    {
     "data": {
      "image/png": "[encoded data removed]",
      "text/plain": [
       "<Figure size 432x288 with 2 Axes>"
      ]
     },
     "metadata": {
      "needs_background": "light"
     },
     "output_type": "display_data"
    }
   ],
   "source": [
    "ypred=voting_clf.predict(X_testpca)\n",
    "print(\"Accuracy on the Testing Data\",voting_clf.score(X_testpca,y_test))\n",
    "confusionmat=confusion_matrix(y_test,ypred)\n",
    "sns.heatmap(confusionmat)"
   ]
  },
  {
   "cell_type": "markdown",
   "id": "116c7897",
   "metadata": {},
   "source": [
    "- From the above plots of confusion matrix, we can see that the misclassification(non-diagonal) rate is minimal as compared to the the number of instances that are classified correctly(diagonal) showing that the model generalizes well even on the test set.\n",
    "- Comparing the confusion matrix plots of ensemble with individual classifiers, we can see that misclassification in test is further reduced with ensembling, yet another proof that ensemble outperforms each individual classifier."
   ]
  },
  {
   "attachments": {},
   "cell_type": "markdown",
   "id": "78fc0b02",
   "metadata": {},
   "source": []
  }
 ],
 "metadata": {
  "kernelspec": {
   "display_name": "Python 3 (ipykernel)",
   "language": "python",
   "name": "python3"
  },
  "language_info": {
   "codemirror_mode": {
    "name": "ipython",
    "version": 3
   },
   "file_extension": ".py",
   "mimetype": "text/x-python",
   "name": "python",
   "nbconvert_exporter": "python",
   "pygments_lexer": "ipython3",
   "version": "3.9.12"
  }
 },
 "nbformat": 4,
 "nbformat_minor": 5
}
